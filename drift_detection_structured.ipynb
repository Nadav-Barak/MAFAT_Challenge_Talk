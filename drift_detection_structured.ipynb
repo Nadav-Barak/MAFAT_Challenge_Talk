{
 "cells": [
  {
   "cell_type": "markdown",
   "id": "6eceb066-c663-4d9b-ba6d-b6a2b14247c1",
   "metadata": {},
   "source": [
    "## Load Diabetes Data"
   ]
  },
  {
   "cell_type": "code",
   "execution_count": 1,
   "id": "3d348aa3-01d2-4c39-a4e7-421d1768b586",
   "metadata": {},
   "outputs": [],
   "source": [
    "import random\n",
    "import numpy as np\n",
    "import pandas as pd\n",
    "from sklearn.model_selection import train_test_split\n",
    "from sklearn.tree import DecisionTreeRegressor\n",
    "from sklearn.metrics import mean_squared_error\n",
    "import matplotlib.pyplot as plt"
   ]
  },
  {
   "cell_type": "code",
   "execution_count": 2,
   "id": "4adfea6d-99cc-45db-98f4-29365ad7da93",
   "metadata": {},
   "outputs": [
    {
     "data": {
      "text/html": [
       "<div>\n",
       "<style scoped>\n",
       "    .dataframe tbody tr th:only-of-type {\n",
       "        vertical-align: middle;\n",
       "    }\n",
       "\n",
       "    .dataframe tbody tr th {\n",
       "        vertical-align: top;\n",
       "    }\n",
       "\n",
       "    .dataframe thead th {\n",
       "        text-align: right;\n",
       "    }\n",
       "</style>\n",
       "<table border=\"1\" class=\"dataframe\">\n",
       "  <thead>\n",
       "    <tr style=\"text-align: right;\">\n",
       "      <th></th>\n",
       "      <th>age</th>\n",
       "      <th>sex</th>\n",
       "      <th>bmi</th>\n",
       "      <th>bp</th>\n",
       "      <th>s1</th>\n",
       "      <th>s2</th>\n",
       "      <th>s3</th>\n",
       "      <th>s4</th>\n",
       "      <th>s5</th>\n",
       "      <th>s6</th>\n",
       "    </tr>\n",
       "  </thead>\n",
       "  <tbody>\n",
       "    <tr>\n",
       "      <th>0</th>\n",
       "      <td>59.0</td>\n",
       "      <td>2.0</td>\n",
       "      <td>32.1</td>\n",
       "      <td>101.0</td>\n",
       "      <td>157.0</td>\n",
       "      <td>93.2</td>\n",
       "      <td>38.0</td>\n",
       "      <td>4.0</td>\n",
       "      <td>4.8598</td>\n",
       "      <td>87.0</td>\n",
       "    </tr>\n",
       "    <tr>\n",
       "      <th>1</th>\n",
       "      <td>48.0</td>\n",
       "      <td>1.0</td>\n",
       "      <td>21.6</td>\n",
       "      <td>87.0</td>\n",
       "      <td>183.0</td>\n",
       "      <td>103.2</td>\n",
       "      <td>70.0</td>\n",
       "      <td>3.0</td>\n",
       "      <td>3.8918</td>\n",
       "      <td>69.0</td>\n",
       "    </tr>\n",
       "    <tr>\n",
       "      <th>2</th>\n",
       "      <td>72.0</td>\n",
       "      <td>2.0</td>\n",
       "      <td>30.5</td>\n",
       "      <td>93.0</td>\n",
       "      <td>156.0</td>\n",
       "      <td>93.6</td>\n",
       "      <td>41.0</td>\n",
       "      <td>4.0</td>\n",
       "      <td>4.6728</td>\n",
       "      <td>85.0</td>\n",
       "    </tr>\n",
       "    <tr>\n",
       "      <th>3</th>\n",
       "      <td>24.0</td>\n",
       "      <td>1.0</td>\n",
       "      <td>25.3</td>\n",
       "      <td>84.0</td>\n",
       "      <td>198.0</td>\n",
       "      <td>131.4</td>\n",
       "      <td>40.0</td>\n",
       "      <td>5.0</td>\n",
       "      <td>4.8903</td>\n",
       "      <td>89.0</td>\n",
       "    </tr>\n",
       "    <tr>\n",
       "      <th>4</th>\n",
       "      <td>50.0</td>\n",
       "      <td>1.0</td>\n",
       "      <td>23.0</td>\n",
       "      <td>101.0</td>\n",
       "      <td>192.0</td>\n",
       "      <td>125.4</td>\n",
       "      <td>52.0</td>\n",
       "      <td>4.0</td>\n",
       "      <td>4.2905</td>\n",
       "      <td>80.0</td>\n",
       "    </tr>\n",
       "  </tbody>\n",
       "</table>\n",
       "</div>"
      ],
      "text/plain": [
       "    age  sex   bmi     bp     s1     s2    s3   s4      s5    s6\n",
       "0  59.0  2.0  32.1  101.0  157.0   93.2  38.0  4.0  4.8598  87.0\n",
       "1  48.0  1.0  21.6   87.0  183.0  103.2  70.0  3.0  3.8918  69.0\n",
       "2  72.0  2.0  30.5   93.0  156.0   93.6  41.0  4.0  4.6728  85.0\n",
       "3  24.0  1.0  25.3   84.0  198.0  131.4  40.0  5.0  4.8903  89.0\n",
       "4  50.0  1.0  23.0  101.0  192.0  125.4  52.0  4.0  4.2905  80.0"
      ]
     },
     "execution_count": 2,
     "metadata": {},
     "output_type": "execute_result"
    }
   ],
   "source": [
    "from sklearn.datasets import load_diabetes\n",
    "data, avg_blood_suger = load_diabetes(return_X_y=True, as_frame=True, scaled=False)\n",
    "data.head()"
   ]
  },
  {
   "cell_type": "code",
   "execution_count": 3,
   "id": "5659a3a5-bce5-4bc8-8d99-d0c824206d52",
   "metadata": {},
   "outputs": [
    {
     "data": {
      "text/plain": [
       "<AxesSubplot:>"
      ]
     },
     "execution_count": 3,
     "metadata": {},
     "output_type": "execute_result"
    },
    {
     "data": {
      "image/png": "[encoded data removed]",
      "text/plain": [
       "<Figure size 432x288 with 1 Axes>"
      ]
     },
     "metadata": {
      "needs_background": "light"
     },
     "output_type": "display_data"
    }
   ],
   "source": [
    "data['age'].hist()"
   ]
  },
  {
   "cell_type": "markdown",
   "id": "1606f8e6-8098-4c33-b4ac-2a02c2fb6c35",
   "metadata": {},
   "source": [
    "## Inserting Univariate Drift"
   ]
  },
  {
   "cell_type": "markdown",
   "id": "0336f880-8174-4236-9aa2-8799a13cd4a9",
   "metadata": {},
   "source": [
    "We will create univariate drift in the 'age' feature\n",
    "making the test set contain a larger portion of elderly people."
   ]
  },
  {
   "cell_type": "code",
   "execution_count": 13,
   "id": "1d8b06f7-b4e8-41c0-ab4c-b14e094ea023",
   "metadata": {},
   "outputs": [],
   "source": [
    "younger = list(data[data['age'] < 50].index)\n",
    "older = list(data[data['age'] >= 50].index)\n",
    "\n",
    "train_mixture = random.sample(younger, int(0.9 * len(younger))) + random.sample(older, int(0.3 * len(older)))"
   ]
  },
  {
   "cell_type": "code",
   "execution_count": 14,
   "id": "457389be-a67b-4e04-bbfd-073adede0da6",
   "metadata": {},
   "outputs": [
    {
     "data": {
      "text/plain": [
       "((260, 10), (182, 10))"
      ]
     },
     "execution_count": 14,
     "metadata": {},
     "output_type": "execute_result"
    }
   ],
   "source": [
    "train_X, train_y = data[data.index.isin(train_mixture)], avg_blood_suger[avg_blood_suger.index.isin(train_mixture)]\n",
    "test_X, test_y = data[~data.index.isin(train_mixture)], avg_blood_suger[~avg_blood_suger.index.isin(train_mixture)]\n",
    "\n",
    "train_X.shape, test_X.shape"
   ]
  },
  {
   "cell_type": "markdown",
   "id": "ab7129d4-6863-4359-bbb7-0df6b3feecb8",
   "metadata": {},
   "source": [
    "## Drift effect on performance"
   ]
  },
  {
   "cell_type": "markdown",
   "id": "82ef081c-167b-43f3-adde-0f47000b6126",
   "metadata": {},
   "source": [
    "We will train a simple model to demonstrate the effect drift can have on performance:"
   ]
  },
  {
   "cell_type": "code",
   "execution_count": 15,
   "id": "a59b6b14-c712-45f5-acd9-4f1b56ddefb8",
   "metadata": {},
   "outputs": [
    {
     "name": "stdout",
     "output_type": "stream",
     "text": [
      "Mean squared error on validation set is: 3179.9926487853973\n",
      "Mean squared error on test set is: 6806.0786251390255\n"
     ]
    }
   ],
   "source": [
    "X_train, X_val, y_train, y_val = train_test_split(train_X, train_y, test_size = 0.25)\n",
    "  \n",
    "regr = DecisionTreeRegressor(max_depth=5, random_state = 42) \n",
    "regr.fit(X_train, y_train)\n",
    "\n",
    "print(f'Mean squared error on validation set is: {mean_squared_error(y_val, regr.predict(X_val))}')\n",
    "print(f'Mean squared error on test set is: {mean_squared_error(test_y, regr.predict(test_X))}')"
   ]
  },
  {
   "cell_type": "markdown",
   "id": "c837e074-8afe-4518-b4ea-4ca50ec2a3ea",
   "metadata": {
    "tags": []
   },
   "source": [
    "## Detecting univariate drift using Earth Mover's Distance"
   ]
  },
  {
   "cell_type": "markdown",
   "id": "bfab9b49-1062-4fd4-a310-33b52a2ee38c",
   "metadata": {},
   "source": [
    "For addtional infromation about Earth Mover's distanct and other drift method see [link](https://docs.deepchecks.com/stable/user-guide/general/drift_guide.html)."
   ]
  },
  {
   "cell_type": "code",
   "execution_count": 16,
   "id": "08f8c1e1-b537-4fb7-9f82-2f8314f91a43",
   "metadata": {},
   "outputs": [
    {
     "data": {
      "application/vnd.jupyter.widget-view+json": {
       "model_id": "fff08a90e0364941856c5dbdd0098564",
       "version_major": 2,
       "version_minor": 0
      },
      "text/plain": [
       "VBox(children=(HTML(value='<h4><b>Train Test Feature Drift</b></h4>'), HTML(value='<p>    Calculate drift betw…"
      ]
     },
     "metadata": {},
     "output_type": "display_data"
    }
   ],
   "source": [
    "from deepchecks.tabular import Dataset\n",
    "from deepchecks.tabular.checks import TrainTestFeatureDrift\n",
    "\n",
    "train_dataset = Dataset(train_X, train_y, cat_features=['sex'])\n",
    "test_dataset = Dataset(test_X, test_y, cat_features=['sex'])\n",
    "\n",
    "TrainTestFeatureDrift(columns=['age', 'sex']).run(train_dataset,test_dataset)"
   ]
  },
  {
   "cell_type": "markdown",
   "id": "0b02f166-09ab-4aae-9773-32356db1f01c",
   "metadata": {},
   "source": [
    "## Inserting Multivariate Drift"
   ]
  },
  {
   "cell_type": "markdown",
   "id": "6c632a1d-f6b2-48d5-ae77-5080dc6f5b83",
   "metadata": {},
   "source": [
    "In the following split, the training data will contain either young males or elderly females. </br>\n",
    "Even though the train and test sets have different distributions, there is no univariate drift in any of the features."
   ]
  },
  {
   "cell_type": "code",
   "execution_count": 17,
   "id": "18a12178-b5e0-492e-981b-3976ea85b5cb",
   "metadata": {},
   "outputs": [],
   "source": [
    "data['sex'] = data.sex.apply({1:'Male', 2:'Female'}.get)\n",
    "young_males = data[(data['age'] < 50) & (data['sex'] == 'Male')].index\n",
    "elderly_females = data[(data['age'] >= 50) & (data['sex'] == 'Female')].index\n",
    "\n",
    "train_mixture = list(young_males) + list(elderly_females)"
   ]
  },
  {
   "cell_type": "code",
   "execution_count": 18,
   "id": "c66567cc-4e56-4f0e-9359-ecc25e9b18c9",
   "metadata": {},
   "outputs": [
    {
     "data": {
      "image/png": "[encoded data removed]",
      "text/plain": [
       "<Figure size 432x288 with 2 Axes>"
      ]
     },
     "metadata": {
      "needs_background": "light"
     },
     "output_type": "display_data"
    }
   ],
   "source": [
    "train_X, train_y = data[data.index.isin(train_mixture)], avg_blood_suger[avg_blood_suger.index.isin(train_mixture)]\n",
    "test_X, test_y = data[~data.index.isin(train_mixture)], avg_blood_suger[~avg_blood_suger.index.isin(train_mixture)]\n",
    "\n",
    "fig, axes = plt.subplots(nrows=1,ncols=2)\n",
    "train_X.plot(ax = axes[0],x='sex', y='age', subplots=True, kind='scatter', sharey=True)\n",
    "axes[0].title.set_text('Train Distribution')\n",
    "test_X.plot(ax = axes[1],x='sex', y='age', subplots=True, kind='scatter', sharey=True)\n",
    "axes[1].title.set_text('Test Distribution')"
   ]
  },
  {
   "cell_type": "markdown",
   "id": "42ad9d81-297d-41eb-b30b-7bf8789386da",
   "metadata": {},
   "source": [
    "We have inserted substancial drift, yet it cannot be discovered by the previeus univariate methods:"
   ]
  },
  {
   "cell_type": "code",
   "execution_count": 19,
   "id": "28595e2e-6046-4afa-81ee-e07b439a051a",
   "metadata": {},
   "outputs": [
    {
     "data": {
      "application/vnd.jupyter.widget-view+json": {
       "model_id": "747c8a4fb9c04c3ebb4c2187f9c5a074",
       "version_major": 2,
       "version_minor": 0
      },
      "text/plain": [
       "VBox(children=(HTML(value='<h4><b>Train Test Feature Drift</b></h4>'), HTML(value='<p>    Calculate drift betw…"
      ]
     },
     "metadata": {},
     "output_type": "display_data"
    }
   ],
   "source": [
    "train_dataset = Dataset(train_X, train_y, cat_features=['sex'])\n",
    "test_dataset = Dataset(test_X, test_y, cat_features=['sex'])\n",
    "\n",
    "TrainTestFeatureDrift(columns=['age','sex']).run(train_dataset,test_dataset)"
   ]
  },
  {
   "cell_type": "markdown",
   "id": "d62021be-fdb7-48e4-8727-df08765856cb",
   "metadata": {},
   "source": [
    "## Detecting multivariate drift using Domain Classifier"
   ]
  },
  {
   "cell_type": "markdown",
   "id": "e1323ba7-e13c-4e4e-95ab-acfeb0295027",
   "metadata": {},
   "source": [
    "Domain classifier is a model train to discriminate between train and test samples. </br>\n",
    "Better model performance indicate higher presence of drift. For additional details see [link](https://docs.deepchecks.com/stable/checks_gallery/tabular/train_test_validation/plot_multivariate_drift.html)."
   ]
  },
  {
   "cell_type": "code",
   "execution_count": 20,
   "id": "581a3aa7-fe18-480a-960d-4269c51a8ee6",
   "metadata": {},
   "outputs": [
    {
     "data": {
      "application/vnd.jupyter.widget-view+json": {
       "model_id": "52cef7eaae5d459b902432eacf30756d",
       "version_major": 2,
       "version_minor": 0
      },
      "text/plain": [
       "VBox(children=(HTML(value='<h4><b>Multivariate Drift</b></h4>'), HTML(value='<p>    Calculate drift between th…"
      ]
     },
     "metadata": {},
     "output_type": "display_data"
    }
   ],
   "source": [
    "from deepchecks.tabular import Dataset\n",
    "from deepchecks.tabular.checks import MultivariateDrift\n",
    "\n",
    "train_dataset = Dataset(train_X, train_y, cat_features=['sex'])\n",
    "test_dataset = Dataset(test_X, test_y, cat_features=['sex'])\n",
    "\n",
    "MultivariateDrift(columns=['age','sex']).run(train_dataset,test_dataset)"
   ]
  },
  {
   "cell_type": "code",
   "execution_count": null,
   "id": "944ff678-8c05-4097-9899-e99097cdc564",
   "metadata": {},
   "outputs": [],
   "source": []
  },
  {
   "cell_type": "code",
   "execution_count": null,
   "id": "7c413f54-7ca8-48da-8e10-e4ae63df6283",
   "metadata": {},
   "outputs": [],
   "source": []
  }
 ],
 "metadata": {
  "kernelspec": {
   "display_name": "deepcheck_venv",
   "language": "python",
   "name": "deepcheck_venv"
  },
  "language_info": {
   "codemirror_mode": {
    "name": "ipython",
    "version": 3
   },
   "file_extension": ".py",
   "mimetype": "text/x-python",
   "name": "python",
   "nbconvert_exporter": "python",
   "pygments_lexer": "ipython3",
   "version": "3.8.10"
  }
 },
 "nbformat": 4,
 "nbformat_minor": 5
}
